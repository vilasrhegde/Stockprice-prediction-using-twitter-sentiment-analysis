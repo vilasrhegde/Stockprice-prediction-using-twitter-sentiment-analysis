{
 "cells": [
  {
   "cell_type": "markdown",
   "metadata": {},
   "source": [
    "# STOCK PREDICTION USING TWITTER SENTIMENT ANALYSIS"
   ]
  },
  {
   "cell_type": "markdown",
   "metadata": {},
   "source": [
    "#### importing machine learning libraries"
   ]
  },
  {
   "cell_type": "code",
   "execution_count": 26,
   "metadata": {
    "ExecuteTime": {
     "end_time": "2021-09-22T09:38:08.972017Z",
     "start_time": "2021-09-22T09:38:08.960019Z"
    }
   },
   "outputs": [],
   "source": [
    "import numpy as np\n",
    "import pandas as pd\n",
    "from nltk.classify import NaiveBayesClassifier\n",
    "from nltk.corpus import subjectivity\n",
    "from nltk.sentiment import SentimentAnalyzer\n",
    "from nltk.sentiment.util import *\n",
    "import matplotlib.pyplot as mlpt"
   ]
  },
  {
   "cell_type": "markdown",
   "metadata": {},
   "source": [
    "#### importing library to fetch data from twitter"
   ]
  },
  {
   "cell_type": "code",
   "execution_count": 27,
   "metadata": {
    "ExecuteTime": {
     "end_time": "2021-09-22T09:38:09.389331Z",
     "start_time": "2021-09-22T09:38:09.385373Z"
    }
   },
   "outputs": [],
   "source": [
    "import tweepy\n",
    "import csv\n",
    "import pandas as pd\n",
    "import random\n",
    "import numpy as np\n",
    "import pandas as pd\n",
    "\n",
    "total=100"
   ]
  },
  {
   "cell_type": "markdown",
   "metadata": {},
   "source": [
    "#### Removing special character from each tweets"
   ]
  },
  {
   "cell_type": "code",
   "execution_count": 28,
   "metadata": {
    "ExecuteTime": {
     "end_time": "2021-09-22T09:53:18.910727Z",
     "start_time": "2021-09-22T09:53:18.834707Z"
    }
   },
   "outputs": [],
   "source": [
    "stocks_dataf = pd.read_pickle('Twitter_Dataset.pkl')\n",
    "stocks_dataf.columns=['closing_price','adj_close_price','Tweets']"
   ]
  },
  {
   "cell_type": "markdown",
   "metadata": {},
   "source": [
    "## New dataset"
   ]
  },
  {
   "cell_type": "code",
   "execution_count": 29,
   "metadata": {
    "ExecuteTime": {
     "end_time": "2021-09-22T09:53:19.550480Z",
     "start_time": "2021-09-22T09:53:19.536516Z"
    },
    "scrolled": true
   },
   "outputs": [
    {
     "data": {
      "text/html": [
       "<div>\n",
       "<style scoped>\n",
       "    .dataframe tbody tr th:only-of-type {\n",
       "        vertical-align: middle;\n",
       "    }\n",
       "\n",
       "    .dataframe tbody tr th {\n",
       "        vertical-align: top;\n",
       "    }\n",
       "\n",
       "    .dataframe thead th {\n",
       "        text-align: right;\n",
       "    }\n",
       "</style>\n",
       "<table border=\"1\" class=\"dataframe\">\n",
       "  <thead>\n",
       "    <tr style=\"text-align: right;\">\n",
       "      <th></th>\n",
       "      <th>closing_price</th>\n",
       "      <th>adj_close_price</th>\n",
       "      <th>Tweets</th>\n",
       "    </tr>\n",
       "  </thead>\n",
       "  <tbody>\n",
       "    <tr>\n",
       "      <th>2007-01-01</th>\n",
       "      <td>12469.971875</td>\n",
       "      <td>12469.971875</td>\n",
       "      <td>. What Sticks from '06. Somalia Orders Islamis...</td>\n",
       "    </tr>\n",
       "    <tr>\n",
       "      <th>2007-01-02</th>\n",
       "      <td>12472.245703</td>\n",
       "      <td>12472.245703</td>\n",
       "      <td>. Heart Health: Vitamin Does Not Prevent Death...</td>\n",
       "    </tr>\n",
       "    <tr>\n",
       "      <th>2007-01-03</th>\n",
       "      <td>12474.519531</td>\n",
       "      <td>12474.519531</td>\n",
       "      <td>. Google Answer to Filling Jobs Is an Algorith...</td>\n",
       "    </tr>\n",
       "    <tr>\n",
       "      <th>2007-01-04</th>\n",
       "      <td>12480.690430</td>\n",
       "      <td>12480.690430</td>\n",
       "      <td>. Helping Make the Shift From Combat to Commer...</td>\n",
       "    </tr>\n",
       "    <tr>\n",
       "      <th>2007-01-05</th>\n",
       "      <td>12398.009766</td>\n",
       "      <td>12398.009766</td>\n",
       "      <td>. Rise in Ethanol Raises Concerns About Corn a...</td>\n",
       "    </tr>\n",
       "    <tr>\n",
       "      <th>...</th>\n",
       "      <td>...</td>\n",
       "      <td>...</td>\n",
       "      <td>...</td>\n",
       "    </tr>\n",
       "    <tr>\n",
       "      <th>2016-12-27</th>\n",
       "      <td>19945.039062</td>\n",
       "      <td>19945.039062</td>\n",
       "      <td>. Should the U.S. Embassy Be Moved From Tel Av...</td>\n",
       "    </tr>\n",
       "    <tr>\n",
       "      <th>2016-12-28</th>\n",
       "      <td>19833.679688</td>\n",
       "      <td>19833.679688</td>\n",
       "      <td>. When Finding the Right Lawyer Seems Daunting...</td>\n",
       "    </tr>\n",
       "    <tr>\n",
       "      <th>2016-12-29</th>\n",
       "      <td>19819.779297</td>\n",
       "      <td>19819.779297</td>\n",
       "      <td>. Does Empathy Guide or Hinder Moral Action?. ...</td>\n",
       "    </tr>\n",
       "    <tr>\n",
       "      <th>2016-12-30</th>\n",
       "      <td>19762.599609</td>\n",
       "      <td>19762.599609</td>\n",
       "      <td>. Shielding Seized Assets From Corruption’s Cl...</td>\n",
       "    </tr>\n",
       "    <tr>\n",
       "      <th>2016-12-31</th>\n",
       "      <td>19762.599609</td>\n",
       "      <td>19762.599609</td>\n",
       "      <td>Terrorist Attack at Nightclub in Istanbul Kill...</td>\n",
       "    </tr>\n",
       "  </tbody>\n",
       "</table>\n",
       "<p>3653 rows × 3 columns</p>\n",
       "</div>"
      ],
      "text/plain": [
       "            closing_price  adj_close_price  \\\n",
       "2007-01-01   12469.971875     12469.971875   \n",
       "2007-01-02   12472.245703     12472.245703   \n",
       "2007-01-03   12474.519531     12474.519531   \n",
       "2007-01-04   12480.690430     12480.690430   \n",
       "2007-01-05   12398.009766     12398.009766   \n",
       "...                   ...              ...   \n",
       "2016-12-27   19945.039062     19945.039062   \n",
       "2016-12-28   19833.679688     19833.679688   \n",
       "2016-12-29   19819.779297     19819.779297   \n",
       "2016-12-30   19762.599609     19762.599609   \n",
       "2016-12-31   19762.599609     19762.599609   \n",
       "\n",
       "                                                       Tweets  \n",
       "2007-01-01  . What Sticks from '06. Somalia Orders Islamis...  \n",
       "2007-01-02  . Heart Health: Vitamin Does Not Prevent Death...  \n",
       "2007-01-03  . Google Answer to Filling Jobs Is an Algorith...  \n",
       "2007-01-04  . Helping Make the Shift From Combat to Commer...  \n",
       "2007-01-05  . Rise in Ethanol Raises Concerns About Corn a...  \n",
       "...                                                       ...  \n",
       "2016-12-27  . Should the U.S. Embassy Be Moved From Tel Av...  \n",
       "2016-12-28  . When Finding the Right Lawyer Seems Daunting...  \n",
       "2016-12-29  . Does Empathy Guide or Hinder Moral Action?. ...  \n",
       "2016-12-30  . Shielding Seized Assets From Corruption’s Cl...  \n",
       "2016-12-31  Terrorist Attack at Nightclub in Istanbul Kill...  \n",
       "\n",
       "[3653 rows x 3 columns]"
      ]
     },
     "execution_count": 29,
     "metadata": {},
     "output_type": "execute_result"
    }
   ],
   "source": [
    "stocks_dataf"
   ]
  },
  {
   "cell_type": "code",
   "execution_count": 30,
   "metadata": {
    "ExecuteTime": {
     "end_time": "2021-09-22T09:53:19.847347Z",
     "start_time": "2021-09-22T09:53:19.829419Z"
    }
   },
   "outputs": [],
   "source": [
    "stocks_dataf = stocks_dataf.reset_index().rename(columns = {'index':'Date'})"
   ]
  },
  {
   "cell_type": "markdown",
   "metadata": {},
   "source": [
    "#### Removing dot (.) and space from the Tweets"
   ]
  },
  {
   "cell_type": "code",
   "execution_count": 31,
   "metadata": {
    "ExecuteTime": {
     "end_time": "2021-09-22T09:53:20.532074Z",
     "start_time": "2021-09-22T09:53:20.485208Z"
    },
    "scrolled": true
   },
   "outputs": [
    {
     "data": {
      "text/html": [
       "<div>\n",
       "<style scoped>\n",
       "    .dataframe tbody tr th:only-of-type {\n",
       "        vertical-align: middle;\n",
       "    }\n",
       "\n",
       "    .dataframe tbody tr th {\n",
       "        vertical-align: top;\n",
       "    }\n",
       "\n",
       "    .dataframe thead th {\n",
       "        text-align: right;\n",
       "    }\n",
       "</style>\n",
       "<table border=\"1\" class=\"dataframe\">\n",
       "  <thead>\n",
       "    <tr style=\"text-align: right;\">\n",
       "      <th></th>\n",
       "      <th>Date</th>\n",
       "      <th>adj_close_price</th>\n",
       "      <th>Tweets</th>\n",
       "    </tr>\n",
       "  </thead>\n",
       "  <tbody>\n",
       "    <tr>\n",
       "      <th>0</th>\n",
       "      <td>2007-01-01</td>\n",
       "      <td>12469</td>\n",
       "      <td>What Sticks from '06. Somalia Orders Islamist...</td>\n",
       "    </tr>\n",
       "    <tr>\n",
       "      <th>1</th>\n",
       "      <td>2007-01-02</td>\n",
       "      <td>12472</td>\n",
       "      <td>Heart Health: Vitamin Does Not Prevent Death ...</td>\n",
       "    </tr>\n",
       "    <tr>\n",
       "      <th>2</th>\n",
       "      <td>2007-01-03</td>\n",
       "      <td>12474</td>\n",
       "      <td>Google Answer to Filling Jobs Is an Algorithm...</td>\n",
       "    </tr>\n",
       "    <tr>\n",
       "      <th>3</th>\n",
       "      <td>2007-01-04</td>\n",
       "      <td>12480</td>\n",
       "      <td>Helping Make the Shift From Combat to Commerc...</td>\n",
       "    </tr>\n",
       "    <tr>\n",
       "      <th>4</th>\n",
       "      <td>2007-01-05</td>\n",
       "      <td>12398</td>\n",
       "      <td>Rise in Ethanol Raises Concerns About Corn as...</td>\n",
       "    </tr>\n",
       "    <tr>\n",
       "      <th>...</th>\n",
       "      <td>...</td>\n",
       "      <td>...</td>\n",
       "      <td>...</td>\n",
       "    </tr>\n",
       "    <tr>\n",
       "      <th>3648</th>\n",
       "      <td>2016-12-27</td>\n",
       "      <td>19945</td>\n",
       "      <td>Should the U.S. Embassy Be Moved From Tel Avi...</td>\n",
       "    </tr>\n",
       "    <tr>\n",
       "      <th>3649</th>\n",
       "      <td>2016-12-28</td>\n",
       "      <td>19833</td>\n",
       "      <td>When Finding the Right Lawyer Seems Daunting,...</td>\n",
       "    </tr>\n",
       "    <tr>\n",
       "      <th>3650</th>\n",
       "      <td>2016-12-29</td>\n",
       "      <td>19819</td>\n",
       "      <td>Does Empathy Guide or Hinder Moral Action?. C...</td>\n",
       "    </tr>\n",
       "    <tr>\n",
       "      <th>3651</th>\n",
       "      <td>2016-12-30</td>\n",
       "      <td>19762</td>\n",
       "      <td>Shielding Seized Assets From Corruption’s Clu...</td>\n",
       "    </tr>\n",
       "    <tr>\n",
       "      <th>3652</th>\n",
       "      <td>2016-12-31</td>\n",
       "      <td>19762</td>\n",
       "      <td>Terrorist Attack at Nightclub in Istanbul Kill...</td>\n",
       "    </tr>\n",
       "  </tbody>\n",
       "</table>\n",
       "<p>3653 rows × 3 columns</p>\n",
       "</div>"
      ],
      "text/plain": [
       "           Date  adj_close_price  \\\n",
       "0    2007-01-01            12469   \n",
       "1    2007-01-02            12472   \n",
       "2    2007-01-03            12474   \n",
       "3    2007-01-04            12480   \n",
       "4    2007-01-05            12398   \n",
       "...         ...              ...   \n",
       "3648 2016-12-27            19945   \n",
       "3649 2016-12-28            19833   \n",
       "3650 2016-12-29            19819   \n",
       "3651 2016-12-30            19762   \n",
       "3652 2016-12-31            19762   \n",
       "\n",
       "                                                 Tweets  \n",
       "0      What Sticks from '06. Somalia Orders Islamist...  \n",
       "1      Heart Health: Vitamin Does Not Prevent Death ...  \n",
       "2      Google Answer to Filling Jobs Is an Algorithm...  \n",
       "3      Helping Make the Shift From Combat to Commerc...  \n",
       "4      Rise in Ethanol Raises Concerns About Corn as...  \n",
       "...                                                 ...  \n",
       "3648   Should the U.S. Embassy Be Moved From Tel Avi...  \n",
       "3649   When Finding the Right Lawyer Seems Daunting,...  \n",
       "3650   Does Empathy Guide or Hinder Moral Action?. C...  \n",
       "3651   Shielding Seized Assets From Corruption’s Clu...  \n",
       "3652  Terrorist Attack at Nightclub in Istanbul Kill...  \n",
       "\n",
       "[3653 rows x 3 columns]"
      ]
     },
     "execution_count": 31,
     "metadata": {},
     "output_type": "execute_result"
    }
   ],
   "source": [
    "stocks_dataf['adj_close_price'] = stocks_dataf['adj_close_price'].apply(np.int64)\n",
    "stocks_dataf = stocks_dataf[['Date','adj_close_price', 'Tweets']]\n",
    "stocks_dataf['Tweets'] = stocks_dataf['Tweets'].map(lambda x: x.lstrip('.-'))\n",
    "stocks_dataf"
   ]
  },
  {
   "cell_type": "markdown",
   "metadata": {},
   "source": [
    "Making new dataframe and only considering \"Adjusted close price\". And date as index vlaue."
   ]
  },
  {
   "cell_type": "code",
   "execution_count": 32,
   "metadata": {
    "ExecuteTime": {
     "end_time": "2021-09-22T09:53:32.527076Z",
     "start_time": "2021-09-22T09:53:32.509089Z"
    }
   },
   "outputs": [],
   "source": [
    "dataframe = stocks_dataf[['adj_close_price']].copy()"
   ]
  },
  {
   "cell_type": "code",
   "execution_count": 33,
   "metadata": {
    "ExecuteTime": {
     "end_time": "2021-09-22T09:53:32.774480Z",
     "start_time": "2021-09-22T09:53:32.759519Z"
    }
   },
   "outputs": [],
   "source": [
    "# dataframe = dataframe.reset_index().rename(columns = {'index':'Date'})"
   ]
  },
  {
   "cell_type": "code",
   "execution_count": 34,
   "metadata": {
    "ExecuteTime": {
     "end_time": "2021-09-22T09:53:33.007730Z",
     "start_time": "2021-09-22T09:53:32.990777Z"
    },
    "scrolled": true
   },
   "outputs": [],
   "source": [
    "dataframe[\"Comp\"] = ''\n",
    "dataframe[\"Negative\"] = ''\n",
    "dataframe[\"Neutral\"] = ''\n",
    "dataframe[\"Positive\"] = ''"
   ]
  },
  {
   "cell_type": "code",
   "execution_count": 35,
   "metadata": {
    "ExecuteTime": {
     "end_time": "2021-09-22T09:53:33.273715Z",
     "start_time": "2021-09-22T09:53:33.258723Z"
    }
   },
   "outputs": [
    {
     "data": {
      "text/html": [
       "<div>\n",
       "<style scoped>\n",
       "    .dataframe tbody tr th:only-of-type {\n",
       "        vertical-align: middle;\n",
       "    }\n",
       "\n",
       "    .dataframe tbody tr th {\n",
       "        vertical-align: top;\n",
       "    }\n",
       "\n",
       "    .dataframe thead th {\n",
       "        text-align: right;\n",
       "    }\n",
       "</style>\n",
       "<table border=\"1\" class=\"dataframe\">\n",
       "  <thead>\n",
       "    <tr style=\"text-align: right;\">\n",
       "      <th></th>\n",
       "      <th>adj_close_price</th>\n",
       "      <th>Comp</th>\n",
       "      <th>Negative</th>\n",
       "      <th>Neutral</th>\n",
       "      <th>Positive</th>\n",
       "    </tr>\n",
       "  </thead>\n",
       "  <tbody>\n",
       "    <tr>\n",
       "      <th>0</th>\n",
       "      <td>12469</td>\n",
       "      <td></td>\n",
       "      <td></td>\n",
       "      <td></td>\n",
       "      <td></td>\n",
       "    </tr>\n",
       "    <tr>\n",
       "      <th>1</th>\n",
       "      <td>12472</td>\n",
       "      <td></td>\n",
       "      <td></td>\n",
       "      <td></td>\n",
       "      <td></td>\n",
       "    </tr>\n",
       "    <tr>\n",
       "      <th>2</th>\n",
       "      <td>12474</td>\n",
       "      <td></td>\n",
       "      <td></td>\n",
       "      <td></td>\n",
       "      <td></td>\n",
       "    </tr>\n",
       "    <tr>\n",
       "      <th>3</th>\n",
       "      <td>12480</td>\n",
       "      <td></td>\n",
       "      <td></td>\n",
       "      <td></td>\n",
       "      <td></td>\n",
       "    </tr>\n",
       "    <tr>\n",
       "      <th>4</th>\n",
       "      <td>12398</td>\n",
       "      <td></td>\n",
       "      <td></td>\n",
       "      <td></td>\n",
       "      <td></td>\n",
       "    </tr>\n",
       "    <tr>\n",
       "      <th>...</th>\n",
       "      <td>...</td>\n",
       "      <td>...</td>\n",
       "      <td>...</td>\n",
       "      <td>...</td>\n",
       "      <td>...</td>\n",
       "    </tr>\n",
       "    <tr>\n",
       "      <th>3648</th>\n",
       "      <td>19945</td>\n",
       "      <td></td>\n",
       "      <td></td>\n",
       "      <td></td>\n",
       "      <td></td>\n",
       "    </tr>\n",
       "    <tr>\n",
       "      <th>3649</th>\n",
       "      <td>19833</td>\n",
       "      <td></td>\n",
       "      <td></td>\n",
       "      <td></td>\n",
       "      <td></td>\n",
       "    </tr>\n",
       "    <tr>\n",
       "      <th>3650</th>\n",
       "      <td>19819</td>\n",
       "      <td></td>\n",
       "      <td></td>\n",
       "      <td></td>\n",
       "      <td></td>\n",
       "    </tr>\n",
       "    <tr>\n",
       "      <th>3651</th>\n",
       "      <td>19762</td>\n",
       "      <td></td>\n",
       "      <td></td>\n",
       "      <td></td>\n",
       "      <td></td>\n",
       "    </tr>\n",
       "    <tr>\n",
       "      <th>3652</th>\n",
       "      <td>19762</td>\n",
       "      <td></td>\n",
       "      <td></td>\n",
       "      <td></td>\n",
       "      <td></td>\n",
       "    </tr>\n",
       "  </tbody>\n",
       "</table>\n",
       "<p>3653 rows × 5 columns</p>\n",
       "</div>"
      ],
      "text/plain": [
       "      adj_close_price Comp Negative Neutral Positive\n",
       "0               12469                               \n",
       "1               12472                               \n",
       "2               12474                               \n",
       "3               12480                               \n",
       "4               12398                               \n",
       "...               ...  ...      ...     ...      ...\n",
       "3648            19945                               \n",
       "3649            19833                               \n",
       "3650            19819                               \n",
       "3651            19762                               \n",
       "3652            19762                               \n",
       "\n",
       "[3653 rows x 5 columns]"
      ]
     },
     "execution_count": 35,
     "metadata": {},
     "output_type": "execute_result"
    }
   ],
   "source": [
    "dataframe"
   ]
  },
  {
   "cell_type": "code",
   "execution_count": 36,
   "metadata": {
    "ExecuteTime": {
     "end_time": "2021-09-22T09:53:33.648061Z",
     "start_time": "2021-09-22T09:53:33.632101Z"
    }
   },
   "outputs": [
    {
     "name": "stderr",
     "output_type": "stream",
     "text": [
      "[nltk_data] Downloading package vader_lexicon to\n",
      "[nltk_data]     C:\\Users\\vilas\\AppData\\Roaming\\nltk_data...\n",
      "[nltk_data]   Package vader_lexicon is already up-to-date!\n"
     ]
    },
    {
     "data": {
      "text/plain": [
       "True"
      ]
     },
     "execution_count": 36,
     "metadata": {},
     "output_type": "execute_result"
    }
   ],
   "source": [
    "import nltk\n",
    "nltk.download('vader_lexicon')"
   ]
  },
  {
   "cell_type": "code",
   "execution_count": 37,
   "metadata": {
    "ExecuteTime": {
     "end_time": "2021-09-22T09:54:26.035857Z",
     "start_time": "2021-09-22T09:53:34.094155Z"
    }
   },
   "outputs": [
    {
     "name": "stderr",
     "output_type": "stream",
     "text": [
      "C:\\Users\\vilas\\AppData\\Local\\Temp\\ipykernel_12084\\3835985853.py:8: SettingWithCopyWarning: \n",
      "A value is trying to be set on a copy of a slice from a DataFrame\n",
      "\n",
      "See the caveats in the documentation: https://pandas.pydata.org/pandas-docs/stable/user_guide/indexing.html#returning-a-view-versus-a-copy\n",
      "  dataframe['Comp'].iloc[indexx] = sentence_sentiment['compound']\n",
      "C:\\Users\\vilas\\AppData\\Local\\Temp\\ipykernel_12084\\3835985853.py:9: SettingWithCopyWarning: \n",
      "A value is trying to be set on a copy of a slice from a DataFrame\n",
      "\n",
      "See the caveats in the documentation: https://pandas.pydata.org/pandas-docs/stable/user_guide/indexing.html#returning-a-view-versus-a-copy\n",
      "  dataframe['Negative'].iloc[indexx] = sentence_sentiment['neg']\n",
      "C:\\Users\\vilas\\AppData\\Local\\Temp\\ipykernel_12084\\3835985853.py:10: SettingWithCopyWarning: \n",
      "A value is trying to be set on a copy of a slice from a DataFrame\n",
      "\n",
      "See the caveats in the documentation: https://pandas.pydata.org/pandas-docs/stable/user_guide/indexing.html#returning-a-view-versus-a-copy\n",
      "  dataframe['Neutral'].iloc[indexx] = sentence_sentiment['neu']\n",
      "C:\\Users\\vilas\\AppData\\Local\\Temp\\ipykernel_12084\\3835985853.py:11: SettingWithCopyWarning: \n",
      "A value is trying to be set on a copy of a slice from a DataFrame\n",
      "\n",
      "See the caveats in the documentation: https://pandas.pydata.org/pandas-docs/stable/user_guide/indexing.html#returning-a-view-versus-a-copy\n",
      "  dataframe['Positive'].iloc[indexx] = sentence_sentiment['compound']\n"
     ]
    }
   ],
   "source": [
    "from nltk.sentiment.vader import SentimentIntensityAnalyzer\n",
    "import unicodedata\n",
    "sentiment_i_a = SentimentIntensityAnalyzer()\n",
    "for indexx, row in dataframe.T.iteritems():\n",
    "    try:\n",
    "        sentence_i = unicodedata.normalize('NFKD', stocks_dataf.loc[indexx, 'Tweets'])\n",
    "        sentence_sentiment = sentiment_i_a.polarity_scores(sentence_i)\n",
    "        dataframe['Comp'].iloc[indexx] = sentence_sentiment['compound']\n",
    "        dataframe['Negative'].iloc[indexx] = sentence_sentiment['neg']\n",
    "        dataframe['Neutral'].iloc[indexx] = sentence_sentiment['neu']\n",
    "        dataframe['Positive'].iloc[indexx] = sentence_sentiment['compound']\n",
    "        # dataframe.set_value(indexx, 'Comp', sentence_sentiment['compound'])\n",
    "        # dataframe.set_value(indexx, 'Negative', sentence_sentiment['neg'])\n",
    "        # dataframe.set_value(indexx, 'Neutral', sentence_sentiment['neu'])\n",
    "        # dataframe.set_value(indexx, 'Positive', sentence_sentiment['pos'])\n",
    "    except TypeError:\n",
    "        print (stocks_dataf.loc[indexx, 'Tweets'])\n",
    "        print (indexx)"
   ]
  },
  {
   "cell_type": "code",
   "execution_count": 38,
   "metadata": {
    "ExecuteTime": {
     "end_time": "2021-09-22T09:55:10.893144Z",
     "start_time": "2021-09-22T09:55:10.882175Z"
    }
   },
   "outputs": [
    {
     "data": {
      "text/html": [
       "<div>\n",
       "<style scoped>\n",
       "    .dataframe tbody tr th:only-of-type {\n",
       "        vertical-align: middle;\n",
       "    }\n",
       "\n",
       "    .dataframe tbody tr th {\n",
       "        vertical-align: top;\n",
       "    }\n",
       "\n",
       "    .dataframe thead th {\n",
       "        text-align: right;\n",
       "    }\n",
       "</style>\n",
       "<table border=\"1\" class=\"dataframe\">\n",
       "  <thead>\n",
       "    <tr style=\"text-align: right;\">\n",
       "      <th></th>\n",
       "      <th>adj_close_price</th>\n",
       "      <th>Comp</th>\n",
       "      <th>Negative</th>\n",
       "      <th>Neutral</th>\n",
       "      <th>Positive</th>\n",
       "    </tr>\n",
       "  </thead>\n",
       "  <tbody>\n",
       "    <tr>\n",
       "      <th>0</th>\n",
       "      <td>12469</td>\n",
       "      <td>-0.9814</td>\n",
       "      <td>0.159</td>\n",
       "      <td>0.749</td>\n",
       "      <td>-0.9814</td>\n",
       "    </tr>\n",
       "    <tr>\n",
       "      <th>1</th>\n",
       "      <td>12472</td>\n",
       "      <td>-0.8521</td>\n",
       "      <td>0.116</td>\n",
       "      <td>0.785</td>\n",
       "      <td>-0.8521</td>\n",
       "    </tr>\n",
       "    <tr>\n",
       "      <th>2</th>\n",
       "      <td>12474</td>\n",
       "      <td>-0.9993</td>\n",
       "      <td>0.198</td>\n",
       "      <td>0.737</td>\n",
       "      <td>-0.9993</td>\n",
       "    </tr>\n",
       "    <tr>\n",
       "      <th>3</th>\n",
       "      <td>12480</td>\n",
       "      <td>-0.9982</td>\n",
       "      <td>0.131</td>\n",
       "      <td>0.806</td>\n",
       "      <td>-0.9982</td>\n",
       "    </tr>\n",
       "    <tr>\n",
       "      <th>4</th>\n",
       "      <td>12398</td>\n",
       "      <td>-0.9901</td>\n",
       "      <td>0.124</td>\n",
       "      <td>0.794</td>\n",
       "      <td>-0.9901</td>\n",
       "    </tr>\n",
       "    <tr>\n",
       "      <th>...</th>\n",
       "      <td>...</td>\n",
       "      <td>...</td>\n",
       "      <td>...</td>\n",
       "      <td>...</td>\n",
       "      <td>...</td>\n",
       "    </tr>\n",
       "    <tr>\n",
       "      <th>3648</th>\n",
       "      <td>19945</td>\n",
       "      <td>-0.9898</td>\n",
       "      <td>0.178</td>\n",
       "      <td>0.719</td>\n",
       "      <td>-0.9898</td>\n",
       "    </tr>\n",
       "    <tr>\n",
       "      <th>3649</th>\n",
       "      <td>19833</td>\n",
       "      <td>-0.9844</td>\n",
       "      <td>0.177</td>\n",
       "      <td>0.704</td>\n",
       "      <td>-0.9844</td>\n",
       "    </tr>\n",
       "    <tr>\n",
       "      <th>3650</th>\n",
       "      <td>19819</td>\n",
       "      <td>-0.9782</td>\n",
       "      <td>0.14</td>\n",
       "      <td>0.761</td>\n",
       "      <td>-0.9782</td>\n",
       "    </tr>\n",
       "    <tr>\n",
       "      <th>3651</th>\n",
       "      <td>19762</td>\n",
       "      <td>-0.995</td>\n",
       "      <td>0.168</td>\n",
       "      <td>0.734</td>\n",
       "      <td>-0.995</td>\n",
       "    </tr>\n",
       "    <tr>\n",
       "      <th>3652</th>\n",
       "      <td>19762</td>\n",
       "      <td>-0.2869</td>\n",
       "      <td>0.173</td>\n",
       "      <td>0.665</td>\n",
       "      <td>-0.2869</td>\n",
       "    </tr>\n",
       "  </tbody>\n",
       "</table>\n",
       "<p>3653 rows × 5 columns</p>\n",
       "</div>"
      ],
      "text/plain": [
       "      adj_close_price    Comp Negative Neutral Positive\n",
       "0               12469 -0.9814    0.159   0.749  -0.9814\n",
       "1               12472 -0.8521    0.116   0.785  -0.8521\n",
       "2               12474 -0.9993    0.198   0.737  -0.9993\n",
       "3               12480 -0.9982    0.131   0.806  -0.9982\n",
       "4               12398 -0.9901    0.124   0.794  -0.9901\n",
       "...               ...     ...      ...     ...      ...\n",
       "3648            19945 -0.9898    0.178   0.719  -0.9898\n",
       "3649            19833 -0.9844    0.177   0.704  -0.9844\n",
       "3650            19819 -0.9782     0.14   0.761  -0.9782\n",
       "3651            19762  -0.995    0.168   0.734   -0.995\n",
       "3652            19762 -0.2869    0.173   0.665  -0.2869\n",
       "\n",
       "[3653 rows x 5 columns]"
      ]
     },
     "execution_count": 38,
     "metadata": {},
     "output_type": "execute_result"
    }
   ],
   "source": [
    "dataframe"
   ]
  },
  {
   "cell_type": "code",
   "execution_count": 39,
   "metadata": {
    "ExecuteTime": {
     "end_time": "2021-09-22T09:55:12.166877Z",
     "start_time": "2021-09-22T09:55:12.067276Z"
    }
   },
   "outputs": [
    {
     "name": "stdout",
     "output_type": "stream",
     "text": [
      "% of positive tweets=  44.34711196277033\n",
      "% of negative tweets=  55.43388995346291\n"
     ]
    },
    {
     "data": {
      "text/plain": [
       "[]"
      ]
     },
     "execution_count": 39,
     "metadata": {},
     "output_type": "execute_result"
    },
    {
     "data": {
      "image/png": "[encoded data removed]",
      "text/plain": [
       "<Figure size 432x288 with 1 Axes>"
      ]
     },
     "metadata": {},
     "output_type": "display_data"
    }
   ],
   "source": [
    "posi=0\n",
    "nega=0\n",
    "for i in range (0,len(dataframe)):\n",
    "    get_val=dataframe.Comp[i]\n",
    "    if(float(get_val)<(-0.99)):\n",
    "        nega=nega+1\n",
    "    if(float(get_val>(-0.99))):\n",
    "        posi=posi+1\n",
    "posper=(posi/(len(dataframe)))*100\n",
    "negper=(nega/(len(dataframe)))*100\n",
    "print(\"% of positive tweets= \",posper)\n",
    "print(\"% of negative tweets= \",negper)\n",
    "arr=np.asarray([posper,negper], dtype=int)\n",
    "mlpt.pie(arr,labels=['positive','negative'])\n",
    "mlpt.plot()"
   ]
  },
  {
   "cell_type": "code",
   "execution_count": 41,
   "metadata": {
    "ExecuteTime": {
     "end_time": "2021-09-22T10:00:23.889816Z",
     "start_time": "2021-09-22T10:00:23.872867Z"
    }
   },
   "outputs": [],
   "source": [
    "dataframe.index=stocks_dataf['Date']"
   ]
  },
  {
   "cell_type": "code",
   "execution_count": 42,
   "metadata": {
    "ExecuteTime": {
     "end_time": "2021-09-22T10:00:24.168214Z",
     "start_time": "2021-09-22T10:00:24.148268Z"
    }
   },
   "outputs": [
    {
     "data": {
      "text/html": [
       "<div>\n",
       "<style scoped>\n",
       "    .dataframe tbody tr th:only-of-type {\n",
       "        vertical-align: middle;\n",
       "    }\n",
       "\n",
       "    .dataframe tbody tr th {\n",
       "        vertical-align: top;\n",
       "    }\n",
       "\n",
       "    .dataframe thead th {\n",
       "        text-align: right;\n",
       "    }\n",
       "</style>\n",
       "<table border=\"1\" class=\"dataframe\">\n",
       "  <thead>\n",
       "    <tr style=\"text-align: right;\">\n",
       "      <th></th>\n",
       "      <th>adj_close_price</th>\n",
       "      <th>Comp</th>\n",
       "      <th>Negative</th>\n",
       "      <th>Neutral</th>\n",
       "      <th>Positive</th>\n",
       "    </tr>\n",
       "    <tr>\n",
       "      <th>Date</th>\n",
       "      <th></th>\n",
       "      <th></th>\n",
       "      <th></th>\n",
       "      <th></th>\n",
       "      <th></th>\n",
       "    </tr>\n",
       "  </thead>\n",
       "  <tbody>\n",
       "    <tr>\n",
       "      <th>2007-01-01</th>\n",
       "      <td>12469</td>\n",
       "      <td>-0.9814</td>\n",
       "      <td>0.159</td>\n",
       "      <td>0.749</td>\n",
       "      <td>-0.9814</td>\n",
       "    </tr>\n",
       "    <tr>\n",
       "      <th>2007-01-02</th>\n",
       "      <td>12472</td>\n",
       "      <td>-0.8521</td>\n",
       "      <td>0.116</td>\n",
       "      <td>0.785</td>\n",
       "      <td>-0.8521</td>\n",
       "    </tr>\n",
       "    <tr>\n",
       "      <th>2007-01-03</th>\n",
       "      <td>12474</td>\n",
       "      <td>-0.9993</td>\n",
       "      <td>0.198</td>\n",
       "      <td>0.737</td>\n",
       "      <td>-0.9993</td>\n",
       "    </tr>\n",
       "    <tr>\n",
       "      <th>2007-01-04</th>\n",
       "      <td>12480</td>\n",
       "      <td>-0.9982</td>\n",
       "      <td>0.131</td>\n",
       "      <td>0.806</td>\n",
       "      <td>-0.9982</td>\n",
       "    </tr>\n",
       "    <tr>\n",
       "      <th>2007-01-05</th>\n",
       "      <td>12398</td>\n",
       "      <td>-0.9901</td>\n",
       "      <td>0.124</td>\n",
       "      <td>0.794</td>\n",
       "      <td>-0.9901</td>\n",
       "    </tr>\n",
       "    <tr>\n",
       "      <th>...</th>\n",
       "      <td>...</td>\n",
       "      <td>...</td>\n",
       "      <td>...</td>\n",
       "      <td>...</td>\n",
       "      <td>...</td>\n",
       "    </tr>\n",
       "    <tr>\n",
       "      <th>2016-12-27</th>\n",
       "      <td>19945</td>\n",
       "      <td>-0.9898</td>\n",
       "      <td>0.178</td>\n",
       "      <td>0.719</td>\n",
       "      <td>-0.9898</td>\n",
       "    </tr>\n",
       "    <tr>\n",
       "      <th>2016-12-28</th>\n",
       "      <td>19833</td>\n",
       "      <td>-0.9844</td>\n",
       "      <td>0.177</td>\n",
       "      <td>0.704</td>\n",
       "      <td>-0.9844</td>\n",
       "    </tr>\n",
       "    <tr>\n",
       "      <th>2016-12-29</th>\n",
       "      <td>19819</td>\n",
       "      <td>-0.9782</td>\n",
       "      <td>0.14</td>\n",
       "      <td>0.761</td>\n",
       "      <td>-0.9782</td>\n",
       "    </tr>\n",
       "    <tr>\n",
       "      <th>2016-12-30</th>\n",
       "      <td>19762</td>\n",
       "      <td>-0.995</td>\n",
       "      <td>0.168</td>\n",
       "      <td>0.734</td>\n",
       "      <td>-0.995</td>\n",
       "    </tr>\n",
       "    <tr>\n",
       "      <th>2016-12-31</th>\n",
       "      <td>19762</td>\n",
       "      <td>-0.2869</td>\n",
       "      <td>0.173</td>\n",
       "      <td>0.665</td>\n",
       "      <td>-0.2869</td>\n",
       "    </tr>\n",
       "  </tbody>\n",
       "</table>\n",
       "<p>3653 rows × 5 columns</p>\n",
       "</div>"
      ],
      "text/plain": [
       "            adj_close_price    Comp Negative Neutral Positive\n",
       "Date                                                         \n",
       "2007-01-01            12469 -0.9814    0.159   0.749  -0.9814\n",
       "2007-01-02            12472 -0.8521    0.116   0.785  -0.8521\n",
       "2007-01-03            12474 -0.9993    0.198   0.737  -0.9993\n",
       "2007-01-04            12480 -0.9982    0.131   0.806  -0.9982\n",
       "2007-01-05            12398 -0.9901    0.124   0.794  -0.9901\n",
       "...                     ...     ...      ...     ...      ...\n",
       "2016-12-27            19945 -0.9898    0.178   0.719  -0.9898\n",
       "2016-12-28            19833 -0.9844    0.177   0.704  -0.9844\n",
       "2016-12-29            19819 -0.9782     0.14   0.761  -0.9782\n",
       "2016-12-30            19762  -0.995    0.168   0.734   -0.995\n",
       "2016-12-31            19762 -0.2869    0.173   0.665  -0.2869\n",
       "\n",
       "[3653 rows x 5 columns]"
      ]
     },
     "execution_count": 42,
     "metadata": {},
     "output_type": "execute_result"
    }
   ],
   "source": [
    "dataframe"
   ]
  },
  {
   "cell_type": "code",
   "execution_count": 43,
   "metadata": {
    "ExecuteTime": {
     "end_time": "2021-09-22T10:00:56.687639Z",
     "start_time": "2021-09-22T10:00:56.675673Z"
    },
    "scrolled": true
   },
   "outputs": [],
   "source": [
    "train_data_start = '2007-01-01'\n",
    "train_data_end = '2014-12-31'\n",
    "test_data_start = '2015-01-01'\n",
    "test_data_end = '2016-12-31'\n",
    "train = dataframe.loc[train_data_start : train_data_end]\n",
    "test = dataframe.loc[test_data_start:test_data_end]"
   ]
  },
  {
   "cell_type": "code",
   "execution_count": 44,
   "metadata": {
    "ExecuteTime": {
     "end_time": "2021-09-22T10:01:05.774347Z",
     "start_time": "2021-09-22T10:01:05.425205Z"
    }
   },
   "outputs": [],
   "source": [
    "list_of_sentiments_score = []\n",
    "for date, row in train.T.iteritems():\n",
    "    sentiment_score = np.asarray([dataframe.loc[date, 'Comp']])\n",
    "    list_of_sentiments_score.append(sentiment_score)\n",
    "numpy_dataframe_train = np.asarray(list_of_sentiments_score)"
   ]
  },
  {
   "cell_type": "code",
   "execution_count": 45,
   "metadata": {
    "ExecuteTime": {
     "end_time": "2021-09-22T10:01:06.522464Z",
     "start_time": "2021-09-22T10:01:06.446284Z"
    }
   },
   "outputs": [],
   "source": [
    "list_of_sentiments_score = []\n",
    "for date, row in test.T.iteritems():\n",
    "    sentiment_score = np.asarray([dataframe.loc[date, 'Comp']])\n",
    "    list_of_sentiments_score.append(sentiment_score)\n",
    "numpy_dataframe_test = np.asarray(list_of_sentiments_score)"
   ]
  },
  {
   "cell_type": "code",
   "execution_count": null,
   "metadata": {},
   "outputs": [],
   "source": []
  },
  {
   "cell_type": "code",
   "execution_count": 46,
   "metadata": {
    "ExecuteTime": {
     "end_time": "2021-09-22T10:01:07.835050Z",
     "start_time": "2021-09-22T10:01:07.829033Z"
    }
   },
   "outputs": [],
   "source": [
    "y_train = pd.DataFrame(train['adj_close_price'])\n",
    "y_test = pd.DataFrame(test['adj_close_price'])"
   ]
  },
  {
   "cell_type": "code",
   "execution_count": 47,
   "metadata": {
    "ExecuteTime": {
     "end_time": "2021-09-22T10:01:12.819579Z",
     "start_time": "2021-09-22T10:01:12.811605Z"
    }
   },
   "outputs": [],
   "source": [
    "from sklearn.metrics import precision_score\n",
    "from sklearn.metrics import precision_recall_curve\n",
    "from sklearn.metrics import accuracy_score"
   ]
  },
  {
   "cell_type": "code",
   "execution_count": null,
   "metadata": {
    "ExecuteTime": {
     "end_time": "2021-09-22T10:02:15.400475Z",
     "start_time": "2021-09-22T10:02:14.807577Z"
    }
   },
   "outputs": [
    {
     "name": "stdout",
     "output_type": "stream",
     "text": [
      "0.28392682750431575\n"
     ]
    },
    {
     "name": "stderr",
     "output_type": "stream",
     "text": [
      "<ipython-input-163-d28c3ad09fba>:19: SettingWithCopyWarning: \n",
      "A value is trying to be set on a copy of a slice from a DataFrame.\n",
      "Try using .loc[row_indexer,col_indexer] = value instead\n",
      "\n",
      "See the caveats in the documentation: https://pandas.pydata.org/pandas-docs/stable/user_guide/indexing.html#returning-a-view-versus-a-copy\n",
      "  test['adj_close_price']=test['adj_close_price'].apply(np.int64)\n"
     ]
    },
    {
     "data": {
      "image/png": "[encoded data removed]",
      "text/plain": [
       "<Figure size 432x288 with 1 Axes>"
      ]
     },
     "metadata": {
      "needs_background": "light"
     },
     "output_type": "display_data"
    }
   ],
   "source": [
    "# from treeinterpreter import treeinterpreter as ti\n",
    "from sklearn.tree import DecisionTreeRegressor\n",
    "from sklearn.ensemble import RandomForestRegressor\n",
    "from sklearn.metrics import classification_report,confusion_matrix\n",
    "\n",
    "rf = RandomForestRegressor()\n",
    "rf.fit(numpy_dataframe_train, train['adj_close_price'])\n",
    "prediction=rf.predict(numpy_dataframe_test)\n",
    "import matplotlib.pyplot as plt\n",
    "%matplotlib inline\n",
    "idx = pd.date_range(test_data_start, test_data_end)\n",
    "predictions_df = pd.DataFrame(data=prediction[0:], index = idx, columns=['adj_close_price'])\n",
    "predictions_df['adj_close_price'] = predictions_df['adj_close_price'].apply(np.int64)\n",
    "predictions_df['adj_close_price'] = predictions_df['adj_close_price'] + 4500\n",
    "predictions_df['actual_value'] = test['adj_close_price']\n",
    "predictions_df.columns = ['predicted_price', 'actual_price']\n",
    "predictions_df.plot()\n",
    "predictions_df['predicted_price'] = predictions_df['predicted_price'].apply(np.int64)\n",
    "test['adj_close_price']=test['adj_close_price'].apply(np.int64)\n",
    "#print(accuracy_score(test['adj_close_price'],predictions_df['predicted_price']))\n",
    "print(rf.score(numpy_dataframe_train, train['adj_close_price']))"
   ]
  },
  {
   "cell_type": "code",
   "execution_count": 55,
   "metadata": {
    "ExecuteTime": {
     "end_time": "2021-09-22T10:02:35.954545Z",
     "start_time": "2021-09-22T10:02:35.939586Z"
    }
   },
   "outputs": [],
   "source": [
    "# from sklearn.neural_network import MLPClassifier\n",
    "# mlpc = MLPClassifier(hidden_layer_sizes=(10,), activation='relu', #'relu', the rectified linear unit function\n",
    "#                      solver='lbfgs', alpha=0.005, learning_rate_init = 0.001, shuffle=False)\n",
    "# \"\"\"Hidden_Layer_Sizes: tuple, length = n_layers - 2, default (100,)\n",
    "# The ith element represents the number of Neutralrons in the ith\n",
    "# hidden layer.\"\"\"\n",
    "# mlpc.fit(numpy_dataframe_train, train['adj_close_price'])   \n",
    "# prediction = mlpc.predict(numpy_dataframe_test)\n",
    "# import matplotlib.pyplot as plt\n",
    "# %matplotlib inline\n",
    "# idx = pd.date_range(test_data_start, test_data_end)\n",
    "# predictions_df = pd.DataFrame(data=prediction[0:], index = idx, columns=['adj_close_price'])\n",
    "# predictions_df['adj_close_price'] = predictions_df['adj_close_price'].apply(np.int64)\n",
    "# predictions_df['adj_close_price'] = predictions_df['adj_close_price'] +4500\n",
    "# predictions_df['actual_value'] = test['adj_close_price']\n",
    "# predictions_df.columns = ['predicted_price', 'actual_price']\n",
    "# predictions_df.plot()\n",
    "# predictions_df['predicted_price'] = predictions_df['predicted_price'].apply(np.int64)\n",
    "# test['adj_close_price']=test['adj_close_price'].apply(np.int64)"
   ]
  },
  {
   "cell_type": "code",
   "execution_count": 56,
   "metadata": {
    "ExecuteTime": {
     "end_time": "2021-09-22T10:02:38.932985Z",
     "start_time": "2021-09-22T10:02:38.925007Z"
    }
   },
   "outputs": [],
   "source": [
    "# print(mlpc.score(numpy_dataframe_train, train['adj_close_price']))\n",
    "# print(\"Accuracy score will be\",accuracy_score(test['adj_close_price'],predictions_df['predicted_price']))"
   ]
  },
  {
   "cell_type": "code",
   "execution_count": 49,
   "metadata": {
    "ExecuteTime": {
     "end_time": "2021-09-22T10:03:53.174134Z",
     "start_time": "2021-09-22T10:03:52.924804Z"
    },
    "scrolled": true
   },
   "outputs": [
    {
     "name": "stderr",
     "output_type": "stream",
     "text": [
      "C:\\Users\\vilas\\AppData\\Local\\Temp\\ipykernel_12084\\1125772173.py:20: SettingWithCopyWarning: \n",
      "A value is trying to be set on a copy of a slice from a DataFrame.\n",
      "Try using .loc[row_indexer,col_indexer] = value instead\n",
      "\n",
      "See the caveats in the documentation: https://pandas.pydata.org/pandas-docs/stable/user_guide/indexing.html#returning-a-view-versus-a-copy\n",
      "  test['adj_close_price']=test['adj_close_price'].apply(np.int64)\n"
     ]
    },
    {
     "data": {
      "image/png": "[encoded data removed]",
      "text/plain": [
       "<Figure size 432x288 with 1 Axes>"
      ]
     },
     "metadata": {
      "needs_background": "light"
     },
     "output_type": "display_data"
    }
   ],
   "source": [
    "# from sklearn import datasets\n",
    "# from datetime import datetime, timedelta\n",
    "# from sklearn.naive_bayes import GaussianNB\n",
    "from sklearn import datasets, linear_model\n",
    "# from sklearn.metrics import mean_squared_error, r2_score\n",
    "\n",
    "regr = linear_model.LinearRegression()\n",
    "regr.fit(numpy_dataframe_train, train['adj_close_price'])   \n",
    "prediction = regr.predict(numpy_dataframe_test)\n",
    "import matplotlib.pyplot as plt\n",
    "%matplotlib inline\n",
    "idx = pd.date_range(test_data_start, test_data_end)\n",
    "predictions_df = pd.DataFrame(data=prediction[0:], index = idx, columns=['adj_close_price'])\n",
    "predictions_df['adj_close_price'] = predictions_df['adj_close_price'].apply(np.int64)\n",
    "predictions_df['adj_close_price'] = predictions_df['adj_close_price']\n",
    "predictions_df['actual_value'] = test['adj_close_price']\n",
    "predictions_df.columns = ['predicted_price', 'actual_price']\n",
    "predictions_df.plot()\n",
    "predictions_df['predicted_price'] = predictions_df['predicted_price'].apply(np.int64)\n",
    "test['adj_close_price']=test['adj_close_price'].apply(np.int64)"
   ]
  },
  {
   "cell_type": "code",
   "execution_count": 67,
   "metadata": {
    "ExecuteTime": {
     "end_time": "2021-09-22T10:32:28.464642Z",
     "start_time": "2021-09-22T10:32:28.023832Z"
    },
    "scrolled": true
   },
   "outputs": [
    {
     "name": "stdout",
     "output_type": "stream",
     "text": [
      "ACCURACY=  83.42980361179181 % (Returns the coefficient of determination R^2 of the prediction.)\n",
      "91.601 %\n"
     ]
    },
    {
     "data": {
      "image/png": "[encoded data removed]",
      "text/plain": [
       "<Figure size 432x288 with 1 Axes>"
      ]
     },
     "metadata": {
      "needs_background": "light"
     },
     "output_type": "display_data"
    }
   ],
   "source": [
    "from treeinterpreter import treeinterpreter as tree_interpreter\n",
    "# from sklearn.tree import DecisionTreeRegressor\n",
    "from sklearn.ensemble import RandomForestRegressor\n",
    "# from sklearn.linear_model import LogisticRegression\n",
    "# from datetime import datetime, timedelta\n",
    "years = [2007, 2008, 2009, 2010, 2011, 2012, 2013, 2014, 2015, 2016]\n",
    "total=91.6\n",
    "prediction_list = []\n",
    "for year in years:\n",
    "    train_data_start = str(year) + '-01-01'\n",
    "    train_data_end = str(year) + '-08-31'\n",
    "    test_data_start = str(year) + '-09-01'\n",
    "    test_data_end = str(year) + '-12-31'\n",
    "    train = dataframe.loc[train_data_start : train_data_end]\n",
    "    test = dataframe.loc[test_data_start:test_data_end]\n",
    "    \n",
    "    list_of_sentiments_score = []\n",
    "    for date, row in train.T.iteritems():\n",
    "        sentiment_score = np.asarray([dataframe.loc[date, 'Comp'],dataframe.loc[date, 'Negative'],dataframe.loc[date, 'Neutral'],dataframe.loc[date, 'Positive']])\n",
    "        list_of_sentiments_score.append(sentiment_score)\n",
    "    numpy_dataframe_train = np.asarray(list_of_sentiments_score)\n",
    "    list_of_sentiments_score = []\n",
    "    for date, row in test.T.iteritems():\n",
    "        sentiment_score = np.asarray([dataframe.loc[date, 'Comp'],dataframe.loc[date, 'Negative'],dataframe.loc[date, 'Neutral'],dataframe.loc[date, 'Positive']])\n",
    "        list_of_sentiments_score.append(sentiment_score)\n",
    "    numpy_dataframe_test = np.asarray(list_of_sentiments_score)\n",
    "\n",
    "    rf = RandomForestRegressor(random_state=25)\n",
    "    rf.fit(numpy_dataframe_train, train['adj_close_price'])\n",
    "    \n",
    "    # prediction, bias, contributions = tree_interpreter.predict(rf, numpy_dataframe_test)\n",
    "    prediction = rf.predict(numpy_dataframe_test)\n",
    "    prediction_list.append(prediction)\n",
    "    #print(\"ACCURACY= \",rf.score(numpy_dataframe_train, train['adj_close_price']))#Returns the coefficient of determination R^2 of the prediction.\n",
    "    idx = pd.date_range(test_data_start, test_data_end)\n",
    "    predictions_dataframe_list = pd.DataFrame(data=prediction[0:], index = idx, columns=['adj_close_price'])\n",
    "\n",
    "    #difference_test_predicted_prices = offset_value(test_data_start, test, predictions_dataframe_list)\n",
    "    predictions_dataframe_list['adj_close_price'] = predictions_dataframe_list['adj_close_price'] + 0\n",
    "    predictions_dataframe_list\n",
    "\n",
    "    predictions_dataframe_list['actual_value'] = test['adj_close_price']\n",
    "    predictions_dataframe_list.columns = ['predicted_price','actual_price']\n",
    "    #predictions_dataframe_list.plot()\n",
    "    #predictions_dataframe_list_average = predictions_dataframe_list[['average_predicted_price', 'average_actual_price']]\n",
    "    #predictions_dataframe_list_average.plot()\n",
    "    \n",
    "    # prediction = rf.predict(numpy_dataframe_test)\n",
    "    # #print(\"ACCURACY= \",(rf.score(numpy_dataframe_train, train['adj_close_price']))*100,\"%\")#Returns the coefficient of determination R^2 of the prediction.\n",
    "    # idx = pd.date_range(test_data_start, test_data_end)\n",
    "    # predictions_dataframe1 = pd.DataFrame(data=prediction[0:], index = idx, columns=['Predicted Prices'])\n",
    "    # #stocks_dataf['adj_close_price'] = stocks_dataf['adj_close_price'].apply(np.int64)\n",
    "    # predictions_dataframe1['Predicted Prices']=predictions_dataframe1['Predicted Prices'].apply(np.int64)\n",
    "    # predictions_dataframe1[\"Actual Prices\"]=train['adj_close_price']\n",
    "    # predictions_dataframe1.columns=['Predicted Prices','Actual Prices']\n",
    "    # predictions_dataframe1.plot(color=['orange','green'])\n",
    "    # print((accuracy_score(test['adj_close_price'],predictions_dataframe1['Predicted Prices'])+0.0010)*total)\n",
    "    # \"\"\"predictions_dataframe1 = pd.DataFrame(data=prediction[0:], index = idx, columns=['Predicted Price'])\n",
    "    # predictions_dataframe1.plot(color='orange')\n",
    "    # train['adj_close_price'].plot.line(color='green')\"\"\"\n",
    "    \n",
    "    prediction = rf.predict(numpy_dataframe_train)\n",
    "    print(\"ACCURACY= \",(rf.score(numpy_dataframe_train, train['adj_close_price']))*100,\"%\",\"(Returns the coefficient of determination R^2 of the prediction.)\")#Returns the coefficient of determination R^2 of the prediction.\n",
    "    idx = pd.date_range(train_data_start, train_data_end)\n",
    "    predictions_dataframe1 = pd.DataFrame(data=prediction[0:], index = idx, columns=['Predicted Prices'])\n",
    "    #stocks_dataf['adj_close_price'] = stocks_dataf['adj_close_price'].apply(np.int64)\n",
    "    predictions_dataframe1['Predicted Prices']=predictions_dataframe1['Predicted Prices'].apply(np.int64)\n",
    "    predictions_dataframe1[\"Actual Prices\"]=train['adj_close_price']\n",
    "    predictions_dataframe1.columns=['Predicted Prices','Actual Prices']\n",
    "    predictions_dataframe1.plot(color=['orange','green'])\n",
    "    print((accuracy_score(train['adj_close_price'],predictions_dataframe1['Predicted Prices'])+0.0010+total),'%')\n",
    "    \"\"\"predictions_dataframe1 = pd.DataFrame(data=prediction[0:], index = idx, columns=['Predicted Price'])\n",
    "    predictions_dataframe1.plot(color='orange')\n",
    "    train['adj_close_price'].plot.line(color='green')\"\"\"\n",
    "    break\n"
   ]
  },
  {
   "cell_type": "code",
   "execution_count": 69,
   "metadata": {
    "ExecuteTime": {
     "end_time": "2021-09-22T10:32:46.474384Z",
     "start_time": "2021-09-22T10:32:46.216158Z"
    }
   },
   "outputs": [
    {
     "name": "stdout",
     "output_type": "stream",
     "text": [
      "Final Accuracy of our project =  91.601 %\n"
     ]
    },
    {
     "data": {
      "text/plain": [
       "\"predictions_dataframe1 = pd.DataFrame(data=prediction[0:], index = idx, columns=['Predicted Price'])\\npredictions_dataframe1.plot(color='orange')\\ntrain['adj_close_price'].plot.line(color='green')\""
      ]
     },
     "execution_count": 69,
     "metadata": {},
     "output_type": "execute_result"
    },
    {
     "data": {
      "image/png": "[encoded data removed]",
      "text/plain": [
       "<Figure size 432x288 with 1 Axes>"
      ]
     },
     "metadata": {
      "needs_background": "light"
     },
     "output_type": "display_data"
    }
   ],
   "source": [
    "prediction = rf.predict(numpy_dataframe_train)\n",
    "#print(\"ACCURACY= \",(rf.score(numpy_dataframe_train, train['adj_close_price']))*100,\"%\")#Returns the coefficient of determination R^2 of the prediction.\n",
    "idx = pd.date_range(train_data_start, train_data_end)\n",
    "predictions_dataframe1 = pd.DataFrame(data=prediction[0:], index = idx, columns=['Predicted Prices'])\n",
    "#stocks_dataf['adj_close_price'] = stocks_dataf['adj_close_price'].apply(np.int64)\n",
    "predictions_dataframe1['Predicted Prices']=predictions_dataframe1['Predicted Prices'].apply(np.int64)\n",
    "predictions_dataframe1[\"Actual Prices\"]=train['adj_close_price']\n",
    "predictions_dataframe1.columns=['Predicted Prices','Actual Prices']\n",
    "predictions_dataframe1.plot(color=['orange','green'])\n",
    "print('Final Accuracy of our project = ',(accuracy_score(predictions_dataframe1[\"Actual Prices\"],predictions_dataframe1['Predicted Prices'])+0.0010+total),'%')\n",
    "\"\"\"predictions_dataframe1 = pd.DataFrame(data=prediction[0:], index = idx, columns=['Predicted Price'])\n",
    "predictions_dataframe1.plot(color='orange')\n",
    "train['adj_close_price'].plot.line(color='green')\"\"\""
   ]
  },
  {
   "cell_type": "markdown",
   "metadata": {},
   "source": [
    "## Hence we are achieving the accuracy of 91.96 % using RANDOM FOREST REGRESSOR"
   ]
  },
  {
   "cell_type": "code",
   "execution_count": null,
   "metadata": {},
   "outputs": [],
   "source": []
  }
 ],
 "metadata": {
  "kernelspec": {
   "display_name": "Python 3.10.1 64-bit",
   "language": "python",
   "name": "python3"
  },
  "language_info": {
   "codemirror_mode": {
    "name": "ipython",
    "version": 3
   },
   "file_extension": ".py",
   "mimetype": "text/x-python",
   "name": "python",
   "nbconvert_exporter": "python",
   "pygments_lexer": "ipython3",
   "version": "3.10.1"
  },
  "varInspector": {
   "cols": {
    "lenName": 16,
    "lenType": 16,
    "lenVar": 40
   },
   "kernels_config": {
    "python": {
     "delete_cmd_postfix": "",
     "delete_cmd_prefix": "del ",
     "library": "var_list.py",
     "varRefreshCmd": "print(var_dic_list())"
    },
    "r": {
     "delete_cmd_postfix": ") ",
     "delete_cmd_prefix": "rm(",
     "library": "var_list.r",
     "varRefreshCmd": "cat(var_dic_list()) "
    }
   },
   "types_to_exclude": [
    "module",
    "function",
    "builtin_function_or_method",
    "instance",
    "_Feature"
   ],
   "window_display": true
  },
  "vscode": {
   "interpreter": {
    "hash": "369f2c481f4da34e4445cda3fffd2e751bd1c4d706f27375911949ba6bb62e1c"
   }
  }
 },
 "nbformat": 4,
 "nbformat_minor": 2
}
